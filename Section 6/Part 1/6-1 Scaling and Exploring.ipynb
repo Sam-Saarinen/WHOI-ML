{
 "cells": [
  {
   "cell_type": "markdown",
   "metadata": {},
   "source": [
    "# Parallelization - GPU's\n",
    "\n",
    "# Parallelization - multi-GPU's for memory constraints\n",
    "\n",
    "# Parallelization - Multi-processors with weight sharing for less time\n",
    "\n",
    "# Parallelization - Across Data"
   ]
  }
 ],
 "metadata": {
  "kernelspec": {
   "display_name": "Python 3",
   "language": "python",
   "name": "python3"
  },
  "language_info": {
   "codemirror_mode": {
    "name": "ipython",
    "version": 3
   },
   "file_extension": ".py",
   "mimetype": "text/x-python",
   "name": "python",
   "nbconvert_exporter": "python",
   "pygments_lexer": "ipython3",
   "version": "3.6.9"
  }
 },
 "nbformat": 4,
 "nbformat_minor": 2
}
