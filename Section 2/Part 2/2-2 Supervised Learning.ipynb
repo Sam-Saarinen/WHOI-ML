{
 "cells": [
  {
   "cell_type": "markdown",
   "metadata": {},
   "source": [
    "# Casting Classification as Regression, Regressing to Probabilities\n",
    "1. We can turn classification labels into a one-hot vector.\n",
    "2. We can regress to the vector.\n",
    "3. To produce output classes, we can take the element with highest weight.\n",
    "4. The regressed value can be interpreted as an (approximate) probability.\n",
    "\n",
    "Regressing to probabilities is a useful trick, especially when we start thinking about confidences and unsupervised data analysis.\n",
    "\n",
    "[Link to Fish Dataset Details](https://www.kaggle.com/aungpyaeap/fish-market)"
   ]
  },
  {
   "cell_type": "code",
   "execution_count": 11,
   "metadata": {},
   "outputs": [
    {
     "name": "stdout",
     "output_type": "stream",
     "text": [
      "160\n",
      "['ï»¿Species', 'Weight', 'Length1', 'Length2', 'Length3', 'Height', 'Width']\n",
      "['Bream', '242', '23.2', '25.4', '30', '11.52', '4.02']\n",
      "{'Bream': 0, 'Roach': 1, 'Whitefish': 2, 'Parkki': 3, 'Perch': 4, 'Pike': 5, 'Smelt': 6}\n",
      "[0 0 0 0 0 0 0 0 0 0 0 0 0 0 0 0 0 0 0 0 0 0 0 0 0 0 0 0 0 0 0 0 0 0 0 1 1\n",
      " 1 1 1 1 1 1 1 1 1 1 1 1 1 1 1 1 1 1 2 2 2 2 2 2 3 3 3 3 3 3 3 3 3 3 3 4 4\n",
      " 4 4 4 4 4 4 4 4 4 4 4 4 4 4 4 4 4 4 4 4 4 4 4 4 4 4 4 4 4 4 4 4 4 4 4 4 4\n",
      " 4 4 4 4 4 4 4 4 4 4 4 4 4 4 4 4 4 5 5 5 5 5 5 5 5 5 5 5 5 5 5 5 5 5 6 6 6\n",
      " 6 6 6 6 6 6 6 6 6 6 6]\n"
     ]
    }
   ],
   "source": [
    "import numpy as np\n",
    "import csv\n",
    "\n",
    "rows = []\n",
    "\n",
    "with open('Fish.csv') as csv_file:\n",
    "    csv_reader = csv.reader(csv_file, delimiter=',')\n",
    "    for row in csv_reader:\n",
    "        rows.append(row)\n",
    "\n",
    "print(len(rows))\n",
    "print(rows[0]) # first row is a header\n",
    "print(rows[1])\n",
    "\n",
    "rows = rows[1:]\n",
    "\n",
    "labels = {} # Create a dictionary of label strings to numeric values\n",
    "for row in rows:\n",
    "    if row[0] not in labels:\n",
    "        labels[row[0]]=len(labels)\n",
    "\n",
    "print(labels)\n",
    "        \n",
    "inputs = np.array([row[1:] for row in rows])\n",
    "outputs = np.array([labels[row[0]] for row in rows])\n",
    "print(outputs)"
   ]
  },
  {
   "cell_type": "code",
   "execution_count": 15,
   "metadata": {},
   "outputs": [
    {
     "name": "stdout",
     "output_type": "stream",
     "text": [
      "[[1. 0. 0. 0. 0. 0. 0.]\n",
      " [1. 0. 0. 0. 0. 0. 0.]\n",
      " [1. 0. 0. 0. 0. 0. 0.]\n",
      " [1. 0. 0. 0. 0. 0. 0.]\n",
      " [1. 0. 0. 0. 0. 0. 0.]\n",
      " [1. 0. 0. 0. 0. 0. 0.]\n",
      " [1. 0. 0. 0. 0. 0. 0.]\n",
      " [1. 0. 0. 0. 0. 0. 0.]\n",
      " [1. 0. 0. 0. 0. 0. 0.]\n",
      " [1. 0. 0. 0. 0. 0. 0.]]\n",
      "[[0. 0. 0. 0. 0. 0. 1.]\n",
      " [0. 0. 0. 0. 0. 0. 1.]\n",
      " [0. 0. 0. 0. 0. 0. 1.]\n",
      " [0. 0. 0. 0. 0. 0. 1.]\n",
      " [0. 0. 0. 0. 0. 0. 1.]\n",
      " [0. 0. 0. 0. 0. 0. 1.]\n",
      " [0. 0. 0. 0. 0. 0. 1.]\n",
      " [0. 0. 0. 0. 0. 0. 1.]\n",
      " [0. 0. 0. 0. 0. 0. 1.]\n",
      " [0. 0. 0. 0. 0. 0. 1.]]\n"
     ]
    }
   ],
   "source": [
    "def output_to_one_hot(categories, max_val):\n",
    "    data = np.zeros((len(categories), max_val))\n",
    "    data[np.arange(len(categories)), categories] = 1\n",
    "    return data\n",
    "\n",
    "encodings = output_to_one_hot(outputs, len(labels))\n",
    "print(encodings[:10])\n",
    "print(encodings[-10:])"
   ]
  },
  {
   "cell_type": "code",
   "execution_count": 17,
   "metadata": {},
   "outputs": [],
   "source": [
    "from sklearn.model_selection import train_test_split\n",
    "X_train, X_test, y_train, y_test = train_test_split(inputs, encodings)"
   ]
  },
  {
   "cell_type": "markdown",
   "metadata": {},
   "source": [
    "# Assignment:\n",
    "1. Define a network class that regresses to the 7 outputs.\n",
    "2. Train a sufficiently large network to perform the categorization.\n",
    "3. Measure the test accuracy of the model by counting the number of accurate labels\n",
    "\n",
    "# Stretch Goals:\n",
    "- Test out different network architectures (depth, breadth) and examine training performance."
   ]
  },
  {
   "cell_type": "code",
   "execution_count": null,
   "metadata": {},
   "outputs": [],
   "source": []
  }
 ],
 "metadata": {
  "kernelspec": {
   "display_name": "Python 3",
   "language": "python",
   "name": "python3"
  },
  "language_info": {
   "codemirror_mode": {
    "name": "ipython",
    "version": 3
   },
   "file_extension": ".py",
   "mimetype": "text/x-python",
   "name": "python",
   "nbconvert_exporter": "python",
   "pygments_lexer": "ipython3",
   "version": "3.6.9"
  }
 },
 "nbformat": 4,
 "nbformat_minor": 2
}
