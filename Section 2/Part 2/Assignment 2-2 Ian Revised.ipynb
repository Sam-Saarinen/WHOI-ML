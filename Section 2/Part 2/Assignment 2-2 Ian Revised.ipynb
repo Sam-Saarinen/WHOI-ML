{
 "cells": [
  {
   "cell_type": "code",
   "execution_count": 1,
   "metadata": {},
   "outputs": [
    {
     "name": "stdout",
     "output_type": "stream",
     "text": [
      "160\n",
      "['\\ufeffSpecies', 'Weight', 'Length1', 'Length2', 'Length3', 'Height', 'Width']\n",
      "['Bream', '242', '23.2', '25.4', '30', '11.52', '4.02']\n",
      "{'Bream': 0, 'Roach': 1, 'Whitefish': 2, 'Parkki': 3, 'Perch': 4, 'Pike': 5, 'Smelt': 6}\n",
      "[0 0 0 0 0 0 0 0 0 0 0 0 0 0 0 0 0 0 0 0 0 0 0 0 0 0 0 0 0 0 0 0 0 0 0 1 1\n",
      " 1 1 1 1 1 1 1 1 1 1 1 1 1 1 1 1 1 1 2 2 2 2 2 2 3 3 3 3 3 3 3 3 3 3 3 4 4\n",
      " 4 4 4 4 4 4 4 4 4 4 4 4 4 4 4 4 4 4 4 4 4 4 4 4 4 4 4 4 4 4 4 4 4 4 4 4 4\n",
      " 4 4 4 4 4 4 4 4 4 4 4 4 4 4 4 4 4 5 5 5 5 5 5 5 5 5 5 5 5 5 5 5 5 5 6 6 6\n",
      " 6 6 6 6 6 6 6 6 6 6 6]\n"
     ]
    }
   ],
   "source": [
    "# Copied from problem statement\n",
    "\n",
    "import numpy as np\n",
    "import csv\n",
    "\n",
    "rows = []\n",
    "\n",
    "with open('WHOI-ML/Section 2/Part 2/Fish.csv') as csv_file:\n",
    "    csv_reader = csv.reader(csv_file, delimiter=',')\n",
    "    for row in csv_reader:\n",
    "        rows.append(row)\n",
    "\n",
    "print(len(rows))\n",
    "print(rows[0]) # first row is a header\n",
    "print(rows[1])\n",
    "\n",
    "rows = rows[1:]\n",
    "\n",
    "labels = {} # Create a dictionary of label strings to numeric values\n",
    "for row in rows:\n",
    "    if row[0] not in labels:\n",
    "        labels[row[0]]=len(labels)\n",
    "\n",
    "print(labels)\n",
    "        \n",
    "inputs = np.array([row[1:] for row in rows]).astype(np.float32)\n",
    "outputs = np.array([labels[row[0]] for row in rows])\n",
    "print(outputs)"
   ]
  },
  {
   "cell_type": "code",
   "execution_count": 2,
   "metadata": {},
   "outputs": [
    {
     "name": "stdout",
     "output_type": "stream",
     "text": [
      "[[1. 0. 0. 0. 0. 0. 0.]\n",
      " [1. 0. 0. 0. 0. 0. 0.]\n",
      " [1. 0. 0. 0. 0. 0. 0.]\n",
      " [1. 0. 0. 0. 0. 0. 0.]\n",
      " [1. 0. 0. 0. 0. 0. 0.]\n",
      " [1. 0. 0. 0. 0. 0. 0.]\n",
      " [1. 0. 0. 0. 0. 0. 0.]\n",
      " [1. 0. 0. 0. 0. 0. 0.]\n",
      " [1. 0. 0. 0. 0. 0. 0.]\n",
      " [1. 0. 0. 0. 0. 0. 0.]]\n",
      "[[0. 0. 0. 0. 0. 0. 1.]\n",
      " [0. 0. 0. 0. 0. 0. 1.]\n",
      " [0. 0. 0. 0. 0. 0. 1.]\n",
      " [0. 0. 0. 0. 0. 0. 1.]\n",
      " [0. 0. 0. 0. 0. 0. 1.]\n",
      " [0. 0. 0. 0. 0. 0. 1.]\n",
      " [0. 0. 0. 0. 0. 0. 1.]\n",
      " [0. 0. 0. 0. 0. 0. 1.]\n",
      " [0. 0. 0. 0. 0. 0. 1.]\n",
      " [0. 0. 0. 0. 0. 0. 1.]]\n"
     ]
    }
   ],
   "source": [
    "def output_to_one_hot(categories, max_val):\n",
    "    data = np.zeros((len(categories), max_val))\n",
    "    data[np.arange(len(categories)), categories] = 1\n",
    "    return data\n",
    "\n",
    "encodings = output_to_one_hot(outputs, len(labels))\n",
    "print(encodings[:10])\n",
    "print(encodings[-10:])"
   ]
  },
  {
   "cell_type": "code",
   "execution_count": 3,
   "metadata": {},
   "outputs": [],
   "source": [
    "from sklearn.model_selection import train_test_split\n",
    "X_train, X_test, y_train, y_test = train_test_split(inputs, encodings)"
   ]
  },
  {
   "cell_type": "code",
   "execution_count": 4,
   "metadata": {},
   "outputs": [
    {
     "name": "stdout",
     "output_type": "stream",
     "text": [
      "1.1.0\n"
     ]
    }
   ],
   "source": [
    "from __future__ import print_function\n",
    "import torch; print(torch.__version__)\n",
    "from torch.autograd import Variable\n",
    "import torch.nn as nn\n",
    "import torch.nn.functional as F\n",
    "import torch.optim as optim\n",
    "import torch.utils.data as utils\n",
    "from sklearn.metrics import mean_squared_error\n",
    "import matplotlib.pyplot as plt\n",
    "from tqdm import trange # Used to provide progress bar\n",
    "\n",
    "%matplotlib inline\n",
    "\n",
    "def buildSequential(breadth, depth, indim=6, outdim=7):\n",
    "    layers = []\n",
    "    \n",
    "    layers.append(nn.Linear(indim, breadth, bias=True))\n",
    "    layers.append(nn.ReLU())\n",
    "    for i in range(0, depth-2):\n",
    "        layers.append(nn.Linear(breadth, breadth, bias=True))\n",
    "        layers.append(nn.ReLU())\n",
    "    layers.append(nn.Linear(breadth, outdim, bias=True))\n",
    "      \n",
    "    return nn.Sequential(*layers)"
   ]
  },
  {
   "cell_type": "code",
   "execution_count": 5,
   "metadata": {},
   "outputs": [],
   "source": [
    "def run_once(inputs, true_vals, net, learning_rate=1, num_epochs=100):\n",
    "    \n",
    "    # Initialize\n",
    "    net.zero_grad()\n",
    "    outputs = net(Variable(torch.Tensor([0]*inputs.shape[1])))\n",
    "    outputs.backward(torch.randn(true_vals.shape[1])) # Use random gradients to break symmetry?\n",
    "\n",
    "    for f in net.parameters():\n",
    "        f.data.sub_(f.grad.data * learning_rate)\n",
    "\n",
    "    losses = []\n",
    "\n",
    "    # create your optimizer\n",
    "    optimizer = optim.Adam(net.parameters())\n",
    "    criterion = nn.MSELoss()\n",
    "\n",
    "    #t = trange(num_epochs)\n",
    "    #for epoch in t:  # loop over the dataset multiple times\n",
    "    for epoch in range(0, num_epochs):\n",
    "        running_loss = 0.0\n",
    "\n",
    "        # wrap them in Variable\n",
    "        reshaped_inputs = torch.as_tensor(inputs, dtype=torch.float32) # Structure with each input in its own row\n",
    "        reshaped_outputs = torch.as_tensor(true_vals, dtype=torch.float32) # Neglecting to have outputs and true vals to match dimension is a common mistake.\n",
    "\n",
    "        # forward + backward + optimize\n",
    "        outputs = net(reshaped_inputs)\n",
    "        #print(outputs)\n",
    "        #print(reshaped_outputs)\n",
    "        loss = criterion(outputs, reshaped_outputs)\n",
    "        losses.append(loss)\n",
    "\n",
    "        loss.backward()\n",
    "        optimizer.step()\n",
    "\n",
    "        # zero the parameter gradients\n",
    "        optimizer.zero_grad()\n",
    "\n",
    "        #t.set_description('ML (loss=%g)' % loss.item()) # Updates Loss information\n",
    "        #t.set_description('ML Loss: ' + str(loss.item())) # Updates Loss information\n",
    "\n",
    "    print('Finished Training')\n",
    "    \n",
    "    predicted =net.forward(reshaped_inputs).data.numpy()\n",
    "    \n",
    "    return losses, predicted, net"
   ]
  },
  {
   "cell_type": "code",
   "execution_count": 6,
   "metadata": {},
   "outputs": [
    {
     "name": "stdout",
     "output_type": "stream",
     "text": [
      "(159, 6)\n"
     ]
    }
   ],
   "source": [
    "print(inputs.shape)"
   ]
  },
  {
   "cell_type": "code",
   "execution_count": 7,
   "metadata": {},
   "outputs": [
    {
     "name": "stdout",
     "output_type": "stream",
     "text": [
      "Finished Training\n",
      "Finished Training\n",
      "Finished Training\n",
      "Finished Training\n",
      "Finished Training\n",
      "Finished Training\n",
      "Finished Training\n",
      "Finished Training\n",
      "Done!\n"
     ]
    }
   ],
   "source": [
    "NUM_EPOCHS=10000\n",
    "\n",
    "breadthdepth = np.array([\n",
    "    [10,3],\n",
    "    [20,3],\n",
    "    [50,3],\n",
    "    [100,3],\n",
    "    [10, 4],\n",
    "    [50, 4],\n",
    "    [10, 5],\n",
    "    [20, 5]    \n",
    "])\n",
    "\n",
    "train_err = np.zeros((breadthdepth.shape[0],), dtype=np.float)\n",
    "test_err = np.zeros((breadthdepth.shape[0],), dtype=np.float)\n",
    "train_success = np.zeros((breadthdepth.shape[0],), dtype=np.float)\n",
    "test_success = np.zeros((breadthdepth.shape[0],), dtype=np.float)\n",
    "\n",
    "y_train_labels = np.argmax(y_train, axis=1)\n",
    "y_test_labels = np.argmax(y_test, axis=1)\n",
    "\n",
    "for i in range(breadthdepth.shape[0]):\n",
    "    losses, predicted, net = run_once(X_train, y_train, buildSequential(breadth=breadthdepth[i,0], depth=breadthdepth[i,1]), num_epochs=NUM_EPOCHS)\n",
    "\n",
    "    train_pred = net.forward(torch.from_numpy(X_train)).data.numpy()\n",
    "    test_pred = net.forward(torch.from_numpy(X_test)).data.numpy()\n",
    "\n",
    "    train_err[i] = mean_squared_error(train_pred, y_train)\n",
    "    test_err[i] = mean_squared_error(test_pred, y_test)\n",
    "    \n",
    "    train_labels = np.argmax(train_pred, axis=1)\n",
    "    test_labels = np.argmax(test_pred, axis=1)\n",
    "\n",
    "    train_success[i] = np.sum(train_labels == y_train_labels) / train_labels.shape[0]\n",
    "    test_success[i] = np.sum(test_labels == y_test_labels) / test_labels.shape[0]\n",
    "\n",
    "print('Done!')\n",
    "\n",
    "    "
   ]
  },
  {
   "cell_type": "code",
   "execution_count": 8,
   "metadata": {},
   "outputs": [
    {
     "name": "stdout",
     "output_type": "stream",
     "text": [
      "Breadth:   10 Depth=   3 Train Succes Rate:    36.9748 Test Succes Rate:    32.5000\n",
      "Breadth:   20 Depth=   3 Train Succes Rate:    78.9916 Test Succes Rate:    82.5000\n",
      "Breadth:   50 Depth=   3 Train Succes Rate:    98.3193 Test Succes Rate:    92.5000\n",
      "Breadth:  100 Depth=   3 Train Succes Rate:    91.5966 Test Succes Rate:    87.5000\n",
      "Breadth:   10 Depth=   4 Train Succes Rate:    66.3866 Test Succes Rate:    72.5000\n",
      "Breadth:   50 Depth=   4 Train Succes Rate:    93.2773 Test Succes Rate:    90.0000\n",
      "Breadth:   10 Depth=   5 Train Succes Rate:    73.1092 Test Succes Rate:    65.0000\n",
      "Breadth:   20 Depth=   5 Train Succes Rate:    95.7983 Test Succes Rate:    92.5000\n"
     ]
    }
   ],
   "source": [
    "for i in range(0, breadthdepth.shape[0]):\n",
    "    print('Breadth: %4d Depth=%4d Train Succes Rate: %10.4f Test Succes Rate: %10.4f' \n",
    "          % (breadthdepth[i,0], breadthdepth[i,1],\n",
    "             train_success[i]*100.0, test_success[i]*100.0))\n"
   ]
  },
  {
   "cell_type": "code",
   "execution_count": 9,
   "metadata": {},
   "outputs": [
    {
     "name": "stdout",
     "output_type": "stream",
     "text": [
      "Finished Training\n"
     ]
    },
    {
     "data": {
      "text/plain": [
       "[<matplotlib.lines.Line2D at 0x7f06938f7ad0>]"
      ]
     },
     "execution_count": 9,
     "metadata": {},
     "output_type": "execute_result"
    },
    {
     "data": {
      "image/png": "[encoded data removed]",
      "text/plain": [
       "<Figure size 432x288 with 1 Axes>"
      ]
     },
     "metadata": {
      "needs_background": "light"
     },
     "output_type": "display_data"
    }
   ],
   "source": [
    "# Re-run for our best result so far, and see what we get\n",
    "losses, predicted, net = run_once(inputs, encodings, buildSequential(breadth=20, depth=3), num_epochs=NUM_EPOCHS)\n",
    "\n",
    "plt.plot(range(0,len(losses)), losses)"
   ]
  },
  {
   "cell_type": "code",
   "execution_count": 10,
   "metadata": {},
   "outputs": [
    {
     "name": "stdout",
     "output_type": "stream",
     "text": [
      "Training Success Rate:    88.24\n",
      " Testing Success Rate:    92.50\n"
     ]
    },
    {
     "data": {
      "image/png": "[encoded data removed]",
      "text/plain": [
       "<Figure size 432x288 with 2 Axes>"
      ]
     },
     "metadata": {
      "needs_background": "light"
     },
     "output_type": "display_data"
    }
   ],
   "source": [
    "# Actually find labels, and count\n",
    "train_pred = net.forward(torch.from_numpy(X_train)).data.numpy()\n",
    "test_pred = net.forward(torch.from_numpy(X_test)).data.numpy()\n",
    "\n",
    "train_labels = np.argmax(train_pred, axis=1)\n",
    "test_labels = np.argmax(test_pred, axis=1)\n",
    "\n",
    "train_success = np.sum(train_labels == y_train_labels) / train_labels.shape[0]\n",
    "test_success = np.sum(test_labels == y_test_labels) / test_labels.shape[0]\n",
    "\n",
    "print('Training Success Rate: %8.2f'% (train_success*100.0))\n",
    "print(' Testing Success Rate: %8.2f'% ( test_success*100.0))\n",
    "\n",
    "plt.subplot(121)\n",
    "plt.hist(y_train_labels, 7)\n",
    "plt.title('Training Data')\n",
    "\n",
    "plt.subplot(122)\n",
    "plt.hist(y_test_labels, 7)\n",
    "plt.title('Test Data')\n",
    "plt.show()\n",
    "\n"
   ]
  },
  {
   "cell_type": "code",
   "execution_count": null,
   "metadata": {},
   "outputs": [],
   "source": []
  },
  {
   "cell_type": "code",
   "execution_count": null,
   "metadata": {},
   "outputs": [],
   "source": []
  }
 ],
 "metadata": {
  "kernelspec": {
   "display_name": "Python 3",
   "language": "python",
   "name": "python3"
  },
  "language_info": {
   "codemirror_mode": {
    "name": "ipython",
    "version": 3
   },
   "file_extension": ".py",
   "mimetype": "text/x-python",
   "name": "python",
   "nbconvert_exporter": "python",
   "pygments_lexer": "ipython3",
   "version": "3.7.4"
  }
 },
 "nbformat": 4,
 "nbformat_minor": 2
}
