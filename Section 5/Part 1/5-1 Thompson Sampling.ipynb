{
 "cells": [
  {
   "cell_type": "markdown",
   "metadata": {},
   "source": [
    "# Thompson Sampling:\n",
    "\n",
    "The big idea is that we have some actions, get immediate reward, and want to figure out which is the best action to take.\n",
    "\n",
    "Thompson Sampling (which is guaranteed to be near-optimal) says to try each action according to the probability that it is the optimal action."
   ]
  },
  {
   "cell_type": "code",
   "execution_count": 1,
   "metadata": {},
   "outputs": [
    {
     "name": "stdout",
     "output_type": "stream",
     "text": [
      "[0.87647972 0.87856512 0.71414225 0.48388951 0.17224252 0.91477128\n",
      " 0.02138004 0.43215605 0.27856096 0.13827875]\n"
     ]
    }
   ],
   "source": [
    "import numpy as np\n",
    "arm_weights = np.random.uniform(0, 1, size=10)\n",
    "print(arm_weights)"
   ]
  },
  {
   "cell_type": "code",
   "execution_count": 2,
   "metadata": {},
   "outputs": [],
   "source": [
    "def sample_reward(arm_weight):\n",
    "    return arm_weight > np.random.uniform()"
   ]
  },
  {
   "cell_type": "markdown",
   "metadata": {},
   "source": [
    "# Assignment:\n",
    "- Implement Thompson Sampling\n",
    "\n",
    "# Stretch Goals:\n",
    "- Test out Thompson Sampling on different distributions of reward\n",
    "- Plot reward versus number of trials for various numbers of arms.\n",
    "- Plot the confidence range for the best and worst arms as the number of samples increases.\n"
   ]
  },
  {
   "cell_type": "code",
   "execution_count": null,
   "metadata": {},
   "outputs": [],
   "source": []
  }
 ],
 "metadata": {
  "kernelspec": {
   "display_name": "Python 3",
   "language": "python",
   "name": "python3"
  },
  "language_info": {
   "codemirror_mode": {
    "name": "ipython",
    "version": 3
   },
   "file_extension": ".py",
   "mimetype": "text/x-python",
   "name": "python",
   "nbconvert_exporter": "python",
   "pygments_lexer": "ipython3",
   "version": "3.6.9"
  }
 },
 "nbformat": 4,
 "nbformat_minor": 2
}
