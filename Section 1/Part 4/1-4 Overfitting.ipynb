{
 "cells": [
  {
   "cell_type": "markdown",
   "metadata": {},
   "source": [
    "# Interpolation and Extrapolation errors\n",
    "Errors can vary over the domain \n",
    "\n",
    "\n",
    "# Train and Test Sets\n",
    "\n",
    "# Train, Test, and Validation Sets\n",
    "\n",
    "# Cross Validation"
   ]
  },
  {
   "cell_type": "code",
   "execution_count": null,
   "metadata": {},
   "outputs": [],
   "source": []
  },
  {
   "cell_type": "markdown",
   "metadata": {},
   "source": [
    "# Assignment:\n",
    "1. Separate Training Data into Test and Train Sets. Plot performance vs. Number of points on train and test sets for a regression method of your choice.\n",
    "\n",
    "# Stretch Goals:\n",
    "- Design a cross-validation procedure to split the training data into n groups, and train on all of the groups except one, and then test the performance on the remaining subset.\n",
    "- Compute confidences on the measured test performance."
   ]
  }
 ],
 "metadata": {
  "kernelspec": {
   "display_name": "Python 3",
   "language": "python",
   "name": "python3"
  },
  "language_info": {
   "codemirror_mode": {
    "name": "ipython",
    "version": 3
   },
   "file_extension": ".py",
   "mimetype": "text/x-python",
   "name": "python",
   "nbconvert_exporter": "python",
   "pygments_lexer": "ipython3",
   "version": "3.6.9"
  }
 },
 "nbformat": 4,
 "nbformat_minor": 2
}
