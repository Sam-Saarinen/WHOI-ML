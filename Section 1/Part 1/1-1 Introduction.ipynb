{
 "cells": [
  {
   "cell_type": "markdown",
   "metadata": {},
   "source": [
    "# Machine Learning\n",
    "What is Machine Learning? Put simply, Machine Learning is altering the performance of an algorithm on future inputs based on previously seen data. Machine Learning is a subset of Artificial Intelligence (a large enough subset they are sometimes mistakenly used interchangeably) and Maching Learning has significant overlap with Statistics.\n",
    "\n",
    "# Flavors of Machine Learning\n",
    "The goal of Machine Learning is to produce a function (an algorithm) based on data. The type (think datatype) of input data and type of function determine the flavor of machine learning - which techniques are applicable to the problem. For any given type of problem, there are often multiple techniques that could be applied. This course will teach you which techniques you should use and how to use them.\n",
    "\n",
    "There are three dominant flavors of Machine Learning:\n",
    "1. **Supervised Learning** takes data of the form (input, output) and returns a function that maps from inputs to outputs. For example, face detection is a supervised learning problem. The machine learning algorithm uses data of existing pictures with _labels_ indicating where faces are in the photo. The algorithm produces a function (a _trained model_) that takes input images and outputs coordinates for any detected faces.\n",
    "2. **Unsupervised Learning** takes data of the form (input) and returns a function that maps from inputs to outputs. That should surprise you. Where do the outputs come from? Most unsupervised learning problems specify an objective (more on that in part 1-2) for the outputs on the training inputs. A common goal is for the model to produce outputs that simpler than the inputs (lower dimensional, for example) but that retain most of the \"structure\" of the inputs.\n",
    "3. **Reinforcement Learning** is used to model decision-making processes. RL takes data in the form of (last state, action taken, reward received, new state) and produces functions mapping from states to actions (this is called a _policy_ function). In this setting, state represents the context of a decision (\"What do you do when the drone is falling?\"), actions represent the things the decision-making agent can do (\"Increase the downward thrust from the rotors.\"), and the reward is a form of numerical feedback on how the agent is doing (\"Crashing is -37.\")\n",
    "\n",
    "There are many other forms of Machine Learning, however, and the categories aren't necessarily mutually exclusive. We won't be able to cover them all, and many of them are specific to particular problems. But for example:\n",
    "1. **Semi-Supervised Learning** takes a combination of supervised and unsupervised data.\n",
    "2. **Generative Learning** takes a collection of input data and attempts to learn a function mapping from random noise to the observed distribution of data.\n",
    "3. **Model-Based Reinforcement Learning** is technically still a form of reinforcement learning, but it attempts to learn a transition model (a function mapping previous state and action taken to a probability distribution over next states), which is a form of supervised learning. This transition model is then used to reduce the amount of data needed to evaluate potential policy functions.\n",
    "\n",
    "# How Far Does this Course Go?\n",
    "Machine Learning is a deep and rapidly expanding area of research, but this course will cover most of the major techniques in practical task-agnostic use today.  More importantly, it will give you the tools to learn more and to incorporate any technique you come across into a larger framework of development and evaluation.\n",
    "\n",
    "# Types of Functions - Supervised Tasks\n",
    "The first part of this course covers Supervised Learning. In this setting, we are given data consisting of inputs and outputs (sometimes called labels/labelled values). The type of problem we are solving depends on the type of the inputs and outputs - are they categorical or real valued?\n",
    "- **Categorical Input, Categorical Output** - this is a simple discrete function, but there isn't much opportunity for generalization. The best you can usually do is to store observations for later lookup.\n",
    "- **Categorical Input, Real Output** - This is the realm of classical statistics. Given observations of, say, animal name and weight, we can produce summary statistics. So if someone asks for the weight of a cat, the model may report the mean value of 4 Kg.\n",
    "- **Real Input, Categorical Output** - These are called _Classification Problems_, and include everything from identifying objects in images to identifying weather phenomena. Classification algorithms are frequently concerned with _decision boundaries_. That is, where in the input space an input stops producing one output and starts producing another.\n",
    "- **Real Input, Real Output** - These are called _Regression Problems_, and include most forms of prediction. Predicting or inferring future temperature, pressure, windspeed, number of seals, time of day, or cost are all regression problems. Many classification problems can be cast as regression problems by regressing to the probability that an input produces a particular output.\n",
    "\n",
    "# Regression using scikit-learn\n",
    "There are many pre-built regression algorithms made available through the standard [scikit-learn library](https://scikit-learn.org/stable/). All of them have a very similar interface. First, the model is created. A list of input data X, and corresponding list of output data, Y, are passed to a `fit` method. The model can then be queried on some new input data X' using the `predict` method.\n",
    "\n",
    "# Plotting Results using matplotlib\n",
    "[matplotlib](https://matplotlib.org/) is a commonly used library for generating plots and figures in Python. It supports many explort formats, and is easy to use. First, points/elements are added to the plot using a set of plotting commands. Then, the plot can be rendered by calling `show()`. These rendered plots conveniently show up inline in Jupyter notebooks."
   ]
  },
  {
   "cell_type": "code",
   "execution_count": 6,
   "metadata": {},
   "outputs": [
    {
     "data": {
      "image/png": "[encoded data removed]",
      "text/plain": [
       "<Figure size 432x288 with 1 Axes>"
      ]
     },
     "metadata": {
      "needs_background": "light"
     },
     "output_type": "display_data"
    }
   ],
   "source": [
    "%matplotlib inline\n",
    "# The above line makes graphics render within the notebook.\n",
    "import numpy as np\n",
    "from matplotlib import pyplot as plt\n",
    "\n",
    "input_data = np.arange(20)\n",
    "output_data = input_data * 3 + .2 + np.random.normal(0, 7, len(input_data))\n",
    "\n",
    "plt.scatter(input_data, output_data)\n",
    "plt.show()"
   ]
  },
  {
   "cell_type": "code",
   "execution_count": 8,
   "metadata": {},
   "outputs": [],
   "source": [
    "from sklearn import linear_model\n",
    "\n",
    "# Training inputs and outputs have to be reshaped to 2D matrices.\n",
    "train_input = np.array(input_data).reshape(-1, 1)\n",
    "train_output = np.array(output_data).reshape(-1, 1)\n",
    "\n",
    "regr = linear_model.LinearRegression() # Model is Created\n",
    "regr.fit(train_input, train_output) # Model is Trained\n",
    "predictions = regr.predict(train_input) # Model predictions are evaluated"
   ]
  },
  {
   "cell_type": "code",
   "execution_count": 9,
   "metadata": {},
   "outputs": [
    {
     "data": {
      "image/png": "[encoded data removed]",
      "text/plain": [
       "<Figure size 432x288 with 1 Axes>"
      ]
     },
     "metadata": {
      "needs_background": "light"
     },
     "output_type": "display_data"
    }
   ],
   "source": [
    "plt.scatter(input_data, output_data)\n",
    "plt.plot(train_input, predictions)\n",
    "plt.show()"
   ]
  },
  {
   "cell_type": "markdown",
   "metadata": {},
   "source": [
    "# Assignment:\n",
    "1. Load a dataset from a file into Python.\n",
    "2. Pick an appropriate 2-dimensional subset of the data.\n",
    "3. Plot the data using matplotlib.\n",
    "4. Use scikit-learn to perform linear regression to the dataset.\n",
    "5. Plot the predictions of the trained model against the true values.\n",
    "\n",
    "# Stretch Goals:\n",
    "- Use another regression algorithm from scikit-learn in place of linear regression.\n",
    "- Add axis labels and a title to the plot.\n",
    "- Add plot labels and a legend to the plot.\n",
    "- Add a shaded region around the fit curve representing a 95% confidence interval.\n",
    "- Export the plot as a PNG image and as a PDF."
   ]
  },
  {
   "cell_type": "code",
   "execution_count": null,
   "metadata": {},
   "outputs": [],
   "source": []
  }
 ],
 "metadata": {
  "kernelspec": {
   "display_name": "Python 3",
   "language": "python",
   "name": "python3"
  },
  "language_info": {
   "codemirror_mode": {
    "name": "ipython",
    "version": 3
   },
   "file_extension": ".py",
   "mimetype": "text/x-python",
   "name": "python",
   "nbconvert_exporter": "python",
   "pygments_lexer": "ipython3",
   "version": "3.6.9"
  }
 },
 "nbformat": 4,
 "nbformat_minor": 2
}
