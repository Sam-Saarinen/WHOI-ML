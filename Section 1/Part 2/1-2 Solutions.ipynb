{
 "cells": [
  {
   "cell_type": "code",
   "execution_count": 2,
   "metadata": {},
   "outputs": [
    {
     "name": "stdout",
     "output_type": "stream",
     "text": [
      "[1.1431586  1.08454161 1.74441008 0.44620804 0.44658654 0.40580461\n",
      " 0.97277813 0.80918799 0.6541349  0.40479678 0.99657437 0.43428301\n",
      " 0.69967215 0.55332812 0.69630663 0.58761933 1.02325021 0.75068961\n",
      " 0.96251475 1.47518102 1.47115448 0.41737309 1.46451836 1.33439928\n",
      " 1.85081208 1.04128745 0.51732207 0.95155614 0.75946946 1.77222264]\n"
     ]
    }
   ],
   "source": [
    "# np.array([2, 3, \"4\"]).astype(float) can be used when loading data from text, or use np.loadtxt\n",
    "import numpy as np\n",
    "\n",
    "data = np.loadtxt(\"test_data.csv\", delimiter=\",\")\n",
    "#print(data)\n",
    "\n",
    "Xs = data[:,0:1].reshape(-1)\n",
    "Ys = data[:,2].reshape(-1)\n",
    "\n",
    "import numpy as np\n",
    "model = np.poly1d(np.polyfit(Xs, Ys, 2))\n",
    "predictions = model(Xs)\n",
    "print(predictions)"
   ]
  },
  {
   "cell_type": "code",
   "execution_count": null,
   "metadata": {},
   "outputs": [],
   "source": []
  }
 ],
 "metadata": {
  "kernelspec": {
   "display_name": "Python 3",
   "language": "python",
   "name": "python3"
  },
  "language_info": {
   "codemirror_mode": {
    "name": "ipython",
    "version": 3
   },
   "file_extension": ".py",
   "mimetype": "text/x-python",
   "name": "python",
   "nbconvert_exporter": "python",
   "pygments_lexer": "ipython3",
   "version": "3.6.9"
  }
 },
 "nbformat": 4,
 "nbformat_minor": 2
}
